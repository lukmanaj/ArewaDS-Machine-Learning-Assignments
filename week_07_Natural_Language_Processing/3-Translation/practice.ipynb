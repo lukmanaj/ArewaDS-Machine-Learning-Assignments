{
 "cells": [
  {
   "attachments": {},
   "cell_type": "markdown",
   "metadata": {},
   "source": [
    "# Translation and sentiment analysis with ML"
   ]
  },
  {
   "attachments": {},
   "cell_type": "markdown",
   "metadata": {},
   "source": [
    "An important challenge in computational linguistics is accurate translation of a sentence from one spoken or written language to another.\n",
    "\n"
   ]
  },
  {
   "attachments": {},
   "cell_type": "markdown",
   "metadata": {},
   "source": [
    "Translation is a very hard problem compounded by the fact that there are thousands of languages and each can have very different grammar rules. One approach is to convert the formal grammar rules for one language, such as English, into a non-language dependent structure, and then translate it by converting back to another language. This approach means that you would take the following steps:\n",
    "\n",
    "1. Identification. Identify or tag the words in input language into nouns, verbs etc.\n",
    "2. Create translation. Produce a direct translation of each word in the target language format."
   ]
  },
  {
   "attachments": {},
   "cell_type": "markdown",
   "metadata": {},
   "source": [
    "## Example sentence: English to Irish\n",
    "\n",
    "In 'English', the sentence I feel happy is three words in the order:\n",
    "\n",
    "- subject (I)\n",
    "- verb (feel)\n",
    "- adjective (happy)\n",
    "\n",
    "However, in the 'Irish' language, the same sentence has a very different grammatical structure - emotions like \"happy\" or \"sad\" are expressed as being upon you.\n",
    "\n",
    "The English phrase I feel happy in Irish would be Tá athas orm. A literal translation would be Happy is upon me.\n",
    "\n",
    "An Irish speaker translating to English would say I feel happy, not Happy is upon me, because they understand the meaning of the sentence, even if the words and sentence structure are different.\n",
    "\n",
    "The formal order for the sentence in Irish are:\n",
    "\n",
    "- verb (Tá or is)\n",
    "- adjective (athas, or happy)\n",
    "- subject (orm, or upon me)"
   ]
  },
  {
   "attachments": {},
   "cell_type": "markdown",
   "metadata": {},
   "source": [
    "## Translation\n",
    "\n",
    "A naive translation program might translate words only, ignoring the sentence structure.\n",
    "\n",
    "Naive translation leads to bad (and sometimes hilarious) mistranslations: I feel happy translates literally to Mise bhraitheann athas in Irish. That means (literally) me feel happy and is not a valid Irish sentence. Even though English and Irish are languages spoken on two closely neighboring islands, they are very different languages with different grammar structures."
   ]
  },
  {
   "attachments": {},
   "cell_type": "markdown",
   "metadata": {},
   "source": [
    "## Machine learning approaches\n",
    "\n",
    "So far, you've learned about the formal rules approach to natural language processing. Another approach is to ignore the meaning of the words, and instead use machine learning to detect patterns. This can work in translation if you have lots of text (a corpus) or texts (corpora) in both the origin and target languages.\n",
    "\n",
    "For instance, consider the case of Pride and Prejudice, a well-known English novel written by Jane Austen in 1813. If you consult the book in English and a human translation of the book in French, you could detect phrases in one that are idiomatically translated into the other. You'll do that in a minute.\n",
    "\n",
    "For instance, when an English phrase such as I have no money is translated literally to French, it might become Je n'ai pas de monnaie. \"Monnaie\" is a tricky french 'false cognate', as 'money' and 'monnaie' are not synonymous. A better translation that a human might make would be Je n'ai pas d'argent, because it better conveys the meaning that you have no money (rather than 'loose change' which is the meaning of 'monnaie')."
   ]
  },
  {
   "attachments": {},
   "cell_type": "markdown",
   "metadata": {},
   "source": [
    "If an ML model has enough human translations to build a model on, it can improve the accuracy of translations by identifying common patterns in texts that have been previously translated by expert human speakers of both languages.\n",
    "\n"
   ]
  },
  {
   "attachments": {},
   "cell_type": "markdown",
   "metadata": {},
   "source": [
    "## Exercise - translation\n",
    "\n",
    "You can use TextBlob to translate sentences. Try the famous first line of Pride and Prejudice:"
   ]
  },
  {
   "cell_type": "code",
   "execution_count": 6,
   "metadata": {},
   "outputs": [
    {
     "name": "stdout",
     "output_type": "stream",
     "text": [
      "C'est une vérité universellement reconnue, qu'un seul homme en possession d'une bonne fortune doit être dans le manque d'une femme!\n"
     ]
    }
   ],
   "source": [
    "from textblob import TextBlob\n",
    "\n",
    "text = \"It is a truth universally acknowledged, that a single man in possession of a good fortune, must be in want of a wife!\"\n",
    "blob = TextBlob(text)\n",
    "print(blob.translate(from_lang='en',to='fr'))\n"
   ]
  },
  {
   "cell_type": "code",
   "execution_count": 7,
   "metadata": {},
   "outputs": [
    {
     "name": "stdout",
     "output_type": "stream",
     "text": [
      "Ina matukar farin ciki da na fara nlp\n"
     ]
    }
   ],
   "source": [
    "text = 'I am so happy I have finally began NLP'\n",
    "blob = TextBlob(text)\n",
    "print(blob.translate(from_lang='en',to='ha'))"
   ]
  },
  {
   "attachments": {},
   "cell_type": "markdown",
   "metadata": {},
   "source": [
    "Yeah, so great. Worked with hausa too. Nice!!!"
   ]
  },
  {
   "attachments": {},
   "cell_type": "markdown",
   "metadata": {},
   "source": [
    "# Sentiment analysis\n",
    "\n",
    "Another area where machine learning can work very well is sentiment analysis. A non-ML approach to sentiment is to identify words and phrases which are 'positive' and 'negative'. Then, given a new piece of text, calculate the total value of the positive, negative and neutral words to identify the overall sentiment.\n",
    "\n",
    "This approach is easily tricked as you may have seen in the Marvin task - the sentence:   `Great, that was a wonderful waste of time, I'm glad we are lost on this dark road` is a sarcastic, negative sentiment sentence, but the simple algorithm detects 'great', 'wonderful', 'glad' as positive and 'waste', 'lost' and 'dark' as negative. The overall sentiment is swayed by these conflicting words."
   ]
  },
  {
   "attachments": {},
   "cell_type": "markdown",
   "metadata": {},
   "source": [
    "# ML approaches\n",
    "\n",
    "The ML approach would be to manually gather negative and positive bodies of text - tweets, or movie reviews, or anything where the human has given a score and a written opinion. Then NLP techniques can be applied to opinions and scores, so that patterns emerge (e.g., positive movie reviews tend to have the phrase 'Oscar worthy' more than negative movie reviews, or positive restaurant reviews say 'gourmet' much more than 'disgusting')."
   ]
  },
  {
   "attachments": {},
   "cell_type": "markdown",
   "metadata": {},
   "source": [
    "## Exercise - sentimental sentences\n",
    "\n",
    "Sentiment is measured in with a polarity of -1 to 1, meaning -1 is the most negative sentiment, and 1 is the most positive. Sentiment is also measured with an 0 - 1 score for objectivity (0) and subjectivity (1).\n",
    "\n",
    "Take another look at Jane Austen's Pride and Prejudice. The text is available here at Project Gutenberg. The sample below shows a short program which analyses the sentiment of first and last sentences from the book and display its sentiment polarity and subjectivity/objectivity score.\n",
    "\n",
    "You should use the TextBlob library (described above) to determine sentiment (you do not have to write your own sentiment calculator) in the following task."
   ]
  },
  {
   "cell_type": "code",
   "execution_count": 9,
   "metadata": {},
   "outputs": [
    {
     "name": "stdout",
     "output_type": "stream",
     "text": [
      "It is a truth universally acknowledged, that a single man in possession of a good fortune, must be in want of a wife.  has a sentiment of:  Sentiment(polarity=0.20952380952380953, subjectivity=0.27142857142857146)\n",
      "Darcy, as well as Elizabeth, really loved them; and they were both ever sensible of the warmest gratitude towards the persons who, by bringing her into Derbyshire, had been the means of uniting them.  has a sentiment of:  Sentiment(polarity=0.7, subjectivity=0.8)\n"
     ]
    }
   ],
   "source": [
    "from textblob import TextBlob\n",
    "quote1 = \"\"\"It is a truth universally acknowledged, that a single man in possession of a good fortune, must be in want of a wife.\"\"\"\n",
    "\n",
    "quote2 = \"\"\"Darcy, as well as Elizabeth, really loved them; and they were both ever sensible of the warmest gratitude towards the persons who, by bringing her into Derbyshire, had been the means of uniting them.\"\"\"\n",
    "sentiment1 = TextBlob(quote1).sentiment\n",
    "sentiment2 = TextBlob(quote2).sentiment\n",
    "\n",
    "print(quote1,' has a sentiment of: ', str(sentiment1))\n",
    "print(quote2, ' has a sentiment of: ', str(sentiment2))"
   ]
  },
  {
   "attachments": {},
   "cell_type": "markdown",
   "metadata": {},
   "source": [
    "# Challenge: Check Sentiment Polarity\n"
   ]
  },
  {
   "attachments": {},
   "cell_type": "markdown",
   "metadata": {},
   "source": [
    "Your task is to determine, using sentiment polarity, if Pride and Prejudice has more absolutely positive sentences than absolutely negative ones. For this task, you may assume that a polarity score of 1 or -1 is absolutely positive or negative respectively.\n",
    "\n",
    "Steps:\n",
    "\n",
    "1. Download a copy of Pride and Prejudice from Project Gutenberg as a .txt file. Remove the metadata at the start and end of the file, leaving only the original text\n",
    "2. Open the file in Python and extract the contents as a string\n",
    "3. Create a TextBlob using the book string\n",
    "4. Analyse each sentence in the book in a loop\n",
    "5. If the polarity is 1 or -1 store the sentence in an array or list of positive or negative messages\n",
    "6. At the end, print out all the positive sentences and negative sentences (separately) and the number of each."
   ]
  },
  {
   "cell_type": "code",
   "execution_count": 10,
   "metadata": {},
   "outputs": [
    {
     "name": "stdout",
     "output_type": "stream",
     "text": [
      "File downloaded successfully.\n"
     ]
    }
   ],
   "source": [
    "# downloading using Python: Yay\n",
    "import requests\n",
    "\n",
    "url = \"https://www.gutenberg.org/files/42671/42671.txt\"\n",
    "response = requests.get(url)\n",
    "\n",
    "if response.status_code == 200:\n",
    "    # Get the filename from the URL\n",
    "    filename = 'pride_and_prejudice.txt'\n",
    "\n",
    "    # Save the file\n",
    "    with open(filename, \"w\") as file:\n",
    "        file.write(response.text)\n",
    "    \n",
    "    print(\"File downloaded successfully.\")\n",
    "else:\n",
    "    print(\"Failed to download the file.\")\n"
   ]
  },
  {
   "cell_type": "code",
   "execution_count": 12,
   "metadata": {},
   "outputs": [
    {
     "name": "stdout",
     "output_type": "stream",
     "text": [
      "The 33 most positive sentences: \n",
      "+ \"What an excellent father you have, girls,\" said she, when the door wasshut.\n",
      "+ He walked here, and he walked there, fancying himself so verygreat!\n",
      "+ Elizabeth assured him that she could suit herself perfectly with thosein the room.\n",
      "+ Her performance on the piano-forte isexquisite.\"\n",
      "+ yes--I understand you perfectly.\"\n",
      "+ \"I am perfectly convinced by it that Mr. Darcy has no defect.\n",
      "+ \"It _is_ wonderful,\"--replied Wickham,--\"for almost all his actions maybe traced to pride;--and pride has often been his best friend.\n",
      "+ Family pride, and _filial_ pride, for he is very proud of whathis father was, have done this.\n",
      "+ How wonderfully these sort of things occur!\n",
      "+ She owedher greatest relief to her friend Miss Lucas, who often joined them, andgood-naturedly engaged Mr. Collins's conversation to herself.\n",
      "+ \"An excellent consolation in its way,\" said Elizabeth, \"but it will notdo for _us_.\n",
      "+ The improvement ofspending a night in London was added in time, and the plan becameperfect as plan could be.\n",
      "+ It is the greatest of favourswhen Miss De Bourgh comes in.\"\n",
      "+ Anne would havebeen a delightful performer, had her health allowed her to learn.\"\n",
      "+ \"Perfectly so--I thank you.\"\n",
      "+ She is avery great favourite with some ladies of my acquaintance, Mrs. Hurst andMiss Bingley.\n",
      "+ cried Elizabeth, with the greatest satisfaction.\n",
      "+ Charlotte is anexcellent manager, I dare say.\n",
      "+ \"His father was an excellent man,\" said Mrs. Gardiner.\n",
      "+ \"He is the best landlord, and the best master,\" said she, \"that everlived.\n",
      "+ \"He is perfectly well behaved, polite, and unassuming,\" said her uncle.\n",
      "+ On reaching the house, they were shewn through the hall into the saloon,whose northern aspect rendered it delightful for summer.\n",
      "+ Our distress, my     dear Lizzy, is very great.\n",
      "+ And tell my dearLydia, not to give any directions about her clothes, till she has seenme, for she does not know which are the best warehouses.\n",
      "+ We acted with the best intentions.\"\n",
      "+ It now occurred to the girls that their mother was in all likelihoodperfectly ignorant of what had happened.\n",
      "+ But, however, he is very welcome tocome to Netherfield, if he likes it.\n",
      "+ Happy shall I be, when his stay at Netherfield is over!\"\n",
      "+ You will be a very happy woman.\"\n",
      "+ my dear, dear Jane, I am sohappy!\n",
      "+ If I could but see _you_ as happy!\n",
      "+ He is perfectly amiable.\n",
      "+ Your idea of the ponies is delightful.\n",
      "The 16 most negative sentences: \n",
      "- shocking!\"\n",
      "- Every body is disgusted with his pride.\n",
      "- \"But what,\" said she, after a pause, \"can have been his motive?--whatcan have induced him to behave so cruelly?\"\n",
      "- His disposition mustbe dreadful.\"\n",
      "- \"You shall hear then--but prepare yourself for something very dreadful.\n",
      "- The pause was to Elizabeth's feelingsdreadful.\n",
      "- \"Wickham sovery bad!\n",
      "- The separationbetween her and her family was rather noisy than pathetic.\n",
      "- It would be dreadful!\n",
      "- It is every way horrible!\"\n",
      "- \"Oh, yes!--that, that is the worst of all.\n",
      "- \"She is so fond of Mrs. Forster,\" said she, \"it will be quite shockingto send her away!\n",
      "- It was all     over before I arrived; so my curiosity was not so dreadfully racked     as _your's_ seems to have been.\n",
      "- He called it, therefore, his duty to step     forward, and endeavour to remedy an evil, which had been brought on     by himself.\n",
      "- \"Hate you!\n",
      "- You were disgusted with the women who were always speakingand looking, and thinking for _your_ approbation alone.\n"
     ]
    }
   ],
   "source": [
    "# opening the file\n",
    "with open('pride_and_prejudice.txt',encoding=\"utf8\") as f:\n",
    "    content = f.read()\n",
    "# making textblob of the    \n",
    "book = TextBlob(content)\n",
    "# initializing the containers for the sentences\n",
    "positive_sentiments = []\n",
    "negative_sentiments = []\n",
    "\n",
    "# assigning sentences based on extremes in polarity\n",
    "for sentence in book.sentences:\n",
    "    if sentence.sentiment.polarity == 1:\n",
    "        positive_sentiments.append(sentence)\n",
    "    if sentence.sentiment.polarity == -1:\n",
    "        negative_sentiments.append(sentence)\n",
    "\n",
    "# finally printing the sentences\n",
    "print('The ' + str(len(positive_sentiments)) + ' most positive sentences: ')\n",
    "for sentence in positive_sentiments:\n",
    "    print('+ ' + str(sentence.replace('\\n', '').replace('      ', ' ')))\n",
    "    \n",
    "print('The ' + str(len(negative_sentiments)) + ' most negative sentences: ')\n",
    "for sentence in negative_sentiments:\n",
    "    print('- ' + str(sentence.replace('\\n', '').replace('      ', ' ')))\n"
   ]
  },
  {
   "attachments": {},
   "cell_type": "markdown",
   "metadata": {},
   "source": [
    "### Challenge\n",
    "\n",
    "Can you make Marvin even better by extracting other features from the user input?\n",
    "\n"
   ]
  }
 ],
 "metadata": {
  "kernelspec": {
   "display_name": "arewads",
   "language": "python",
   "name": "python3"
  },
  "language_info": {
   "codemirror_mode": {
    "name": "ipython",
    "version": 3
   },
   "file_extension": ".py",
   "mimetype": "text/x-python",
   "name": "python",
   "nbconvert_exporter": "python",
   "pygments_lexer": "ipython3",
   "version": "3.10.10"
  },
  "orig_nbformat": 4
 },
 "nbformat": 4,
 "nbformat_minor": 2
}
