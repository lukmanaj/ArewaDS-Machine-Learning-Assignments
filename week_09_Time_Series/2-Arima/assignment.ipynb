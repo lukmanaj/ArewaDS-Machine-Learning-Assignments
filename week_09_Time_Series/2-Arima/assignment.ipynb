{
 "cells": [
  {
   "attachments": {},
   "cell_type": "markdown",
   "metadata": {},
   "source": [
    "# A new ARIMA model\n",
    "\n",
    "## Instructions\n",
    "\n",
    "Now that you have built an ARIMA model, build a new one with fresh data (try [one of these datasets from Duke](http://www2.stat.duke.edu/~mw/ts_data_sets.html)). Annotate your work in a notebook, visualize the data and your model, and test its accuracy using MAPE.\n",
    "\n",
    "\n"
   ]
  }
 ],
 "metadata": {
  "language_info": {
   "name": "python"
  },
  "orig_nbformat": 4
 },
 "nbformat": 4,
 "nbformat_minor": 2
}
