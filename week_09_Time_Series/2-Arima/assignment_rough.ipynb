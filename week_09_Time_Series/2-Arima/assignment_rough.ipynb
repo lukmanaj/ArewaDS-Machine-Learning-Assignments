{
  "cells": [
    {
      "cell_type": "code",
      "execution_count": 6,
      "metadata": {
        "colab": {
          "base_uri": "https://localhost:8080/"
        },
        "id": "N1tk6RB4_cbn",
        "outputId": "d9e97cfc-4570-4842-e9ce-be42076b7fcd"
      },
      "outputs": [
        {
          "data": {
            "text/html": [
              "<div>\n",
              "<style scoped>\n",
              "    .dataframe tbody tr th:only-of-type {\n",
              "        vertical-align: middle;\n",
              "    }\n",
              "\n",
              "    .dataframe tbody tr th {\n",
              "        vertical-align: top;\n",
              "    }\n",
              "\n",
              "    .dataframe thead th {\n",
              "        text-align: right;\n",
              "    }\n",
              "</style>\n",
              "<table border=\"1\" class=\"dataframe\">\n",
              "  <thead>\n",
              "    <tr style=\"text-align: right;\">\n",
              "      <th></th>\n",
              "      <th>Monthly Mean Total Sunspot Number</th>\n",
              "    </tr>\n",
              "    <tr>\n",
              "      <th>Date</th>\n",
              "      <th></th>\n",
              "    </tr>\n",
              "  </thead>\n",
              "  <tbody>\n",
              "    <tr>\n",
              "      <th>1749-01-31</th>\n",
              "      <td>96.7</td>\n",
              "    </tr>\n",
              "    <tr>\n",
              "      <th>1749-02-28</th>\n",
              "      <td>104.3</td>\n",
              "    </tr>\n",
              "    <tr>\n",
              "      <th>1749-03-31</th>\n",
              "      <td>116.7</td>\n",
              "    </tr>\n",
              "    <tr>\n",
              "      <th>1749-04-30</th>\n",
              "      <td>92.8</td>\n",
              "    </tr>\n",
              "    <tr>\n",
              "      <th>1749-05-31</th>\n",
              "      <td>141.7</td>\n",
              "    </tr>\n",
              "  </tbody>\n",
              "</table>\n",
              "</div>"
            ],
            "text/plain": [
              "            Monthly Mean Total Sunspot Number\n",
              "Date                                         \n",
              "1749-01-31                               96.7\n",
              "1749-02-28                              104.3\n",
              "1749-03-31                              116.7\n",
              "1749-04-30                               92.8\n",
              "1749-05-31                              141.7"
            ]
          },
          "execution_count": 6,
          "metadata": {},
          "output_type": "execute_result"
        }
      ],
      "source": [
        "import numpy as np\n",
        "import pandas as pd\n",
        "import matplotlib.pyplot as plt\n",
        "import statsmodels as sm\n",
        "from statsmodels.tsa.statespace.sarimax import SARIMAX\n",
        "from sklearn.metrics import mean_squared_error\n",
        "\n",
        "# Load the sunspots dataset from a CSV file\n",
        "data = pd.read_csv('../kaggle_datasets/sunspots.csv',index_col='Date',parse_dates= ['Date']).drop('Unnamed: 0',axis =1)\n",
        "data.head()"
      ]
    },
    {
      "cell_type": "code",
      "execution_count": 39,
      "metadata": {},
      "outputs": [],
      "source": [
        "data.rename(columns={'Monthly Mean Total Sunspot Number':'Mean'},inplace=True)"
      ]
    },
    {
      "cell_type": "code",
      "execution_count": 45,
      "metadata": {},
      "outputs": [
        {
          "data": {
            "text/html": [
              "<div>\n",
              "<style scoped>\n",
              "    .dataframe tbody tr th:only-of-type {\n",
              "        vertical-align: middle;\n",
              "    }\n",
              "\n",
              "    .dataframe tbody tr th {\n",
              "        vertical-align: top;\n",
              "    }\n",
              "\n",
              "    .dataframe thead th {\n",
              "        text-align: right;\n",
              "    }\n",
              "</style>\n",
              "<table border=\"1\" class=\"dataframe\">\n",
              "  <thead>\n",
              "    <tr style=\"text-align: right;\">\n",
              "      <th></th>\n",
              "      <th>Mean</th>\n",
              "    </tr>\n",
              "    <tr>\n",
              "      <th>Date</th>\n",
              "      <th></th>\n",
              "    </tr>\n",
              "  </thead>\n",
              "  <tbody>\n",
              "    <tr>\n",
              "      <th>1749-01-31</th>\n",
              "      <td>96.7</td>\n",
              "    </tr>\n",
              "    <tr>\n",
              "      <th>1749-02-28</th>\n",
              "      <td>104.3</td>\n",
              "    </tr>\n",
              "    <tr>\n",
              "      <th>1749-03-31</th>\n",
              "      <td>116.7</td>\n",
              "    </tr>\n",
              "    <tr>\n",
              "      <th>1749-04-30</th>\n",
              "      <td>92.8</td>\n",
              "    </tr>\n",
              "    <tr>\n",
              "      <th>1749-05-31</th>\n",
              "      <td>141.7</td>\n",
              "    </tr>\n",
              "  </tbody>\n",
              "</table>\n",
              "</div>"
            ],
            "text/plain": [
              "             Mean\n",
              "Date             \n",
              "1749-01-31   96.7\n",
              "1749-02-28  104.3\n",
              "1749-03-31  116.7\n",
              "1749-04-30   92.8\n",
              "1749-05-31  141.7"
            ]
          },
          "execution_count": 45,
          "metadata": {},
          "output_type": "execute_result"
        }
      ],
      "source": [
        "data.head()"
      ]
    },
    {
      "cell_type": "code",
      "execution_count": 46,
      "metadata": {
        "colab": {
          "base_uri": "https://localhost:8080/",
          "height": 873
        },
        "id": "jvpQiz5V_v-6",
        "outputId": "92bf077c-8978-463d-e1c8-d0ec1db8abc4"
      },
      "outputs": [
        {
          "name": "stderr",
          "output_type": "stream",
          "text": [
            "/home/lukmanaliyu/miniconda3/envs/arewads/lib/python3.10/site-packages/statsmodels/tsa/base/tsa_model.py:471: ValueWarning: No frequency information was provided, so inferred frequency M will be used.\n",
            "  self._init_dates(dates, freq)\n",
            "/home/lukmanaliyu/miniconda3/envs/arewads/lib/python3.10/site-packages/statsmodels/tsa/base/tsa_model.py:471: ValueWarning: No frequency information was provided, so inferred frequency M will be used.\n",
            "  self._init_dates(dates, freq)\n"
          ]
        },
        {
          "name": "stdout",
          "output_type": "stream",
          "text": [
            "RUNNING THE L-BFGS-B CODE\n",
            "\n",
            "           * * *\n",
            "\n",
            "Machine precision = 2.220D-16\n",
            " N =            6     M =           10\n",
            "\n",
            "At X0         0 variables are exactly at the bounds\n",
            "\n",
            "At iterate    0    f=  4.86011D+00    |proj g|=  4.24046D-02\n"
          ]
        },
        {
          "name": "stderr",
          "output_type": "stream",
          "text": [
            " This problem is unconstrained.\n"
          ]
        },
        {
          "name": "stdout",
          "output_type": "stream",
          "text": [
            "\n",
            "At iterate    5    f=  4.85724D+00    |proj g|=  1.33348D-02\n",
            "\n",
            "At iterate   10    f=  4.84103D+00    |proj g|=  2.82380D-02\n",
            "\n",
            "At iterate   15    f=  4.83998D+00    |proj g|=  3.00178D-06\n",
            "\n",
            "           * * *\n",
            "\n",
            "Tit   = total number of iterations\n",
            "Tnf   = total number of function evaluations\n",
            "Tnint = total number of segments explored during Cauchy searches\n",
            "Skip  = number of BFGS updates skipped\n",
            "Nact  = number of active bounds at final generalized Cauchy point\n",
            "Projg = norm of the final projected gradient\n",
            "F     = final function value\n",
            "\n",
            "           * * *\n",
            "\n",
            "   N    Tit     Tnf  Tnint  Skip  Nact     Projg        F\n",
            "    6     15     18      1     0     0   3.002D-06   4.840D+00\n",
            "  F =   4.8399760902586788     \n",
            "\n",
            "CONVERGENCE: NORM_OF_PROJECTED_GRADIENT_<=_PGTOL            \n",
            "                                     SARIMAX Results                                      \n",
            "==========================================================================================\n",
            "Dep. Variable:                               Mean   No. Observations:                 2612\n",
            "Model:             SARIMAX(4, 1, 0)x(1, 1, 0, 24)   Log Likelihood              -12642.018\n",
            "Date:                            Thu, 06 Jul 2023   AIC                          25296.035\n",
            "Time:                                    23:12:52   BIC                          25331.185\n",
            "Sample:                                01-31-1749   HQIC                         25308.774\n",
            "                                     - 08-31-1966                                         \n",
            "Covariance Type:                              opg                                         \n",
            "==============================================================================\n",
            "                 coef    std err          z      P>|z|      [0.025      0.975]\n",
            "------------------------------------------------------------------------------\n",
            "ar.L1         -0.4113      0.017    -24.549      0.000      -0.444      -0.379\n",
            "ar.L2         -0.2650      0.019    -14.319      0.000      -0.301      -0.229\n",
            "ar.L3         -0.1563      0.018     -8.811      0.000      -0.191      -0.122\n",
            "ar.L4         -0.0718      0.018     -4.067      0.000      -0.106      -0.037\n",
            "ar.S.L24      -0.4998      0.014    -35.577      0.000      -0.527      -0.472\n",
            "sigma2      1025.4389     21.624     47.421      0.000     983.057    1067.821\n",
            "===================================================================================\n",
            "Ljung-Box (L1) (Q):                    nan   Jarque-Bera (JB):               273.17\n",
            "Prob(Q):                               nan   Prob(JB):                         0.00\n",
            "Heteroskedasticity (H):                nan   Skew:                            -0.01\n",
            "Prob(H) (two-sided):                   nan   Kurtosis:                         4.59\n",
            "===================================================================================\n",
            "\n",
            "Warnings:\n",
            "[1] Covariance matrix calculated using the outer product of gradients (complex-step).\n"
          ]
        }
      ],
      "source": [
        "\n",
        "# Split the data into train and test sets\n",
        "train_size = int(len(data) * 0.8)\n",
        "train_data, test_data = data[:train_size], data[train_size:]\n",
        "\n",
        "# Fit the ARIMA model\n",
        "order = (4, 1, 0) \n",
        "seasonal_order = (1, 1, 0, 24)\n",
        "model = SARIMAX(endog=train_data, order=order, seasonal_order=seasonal_order)\n",
        "results = model.fit()\n",
        "\n",
        "print(results.summary())\n",
        "\n"
      ]
    },
    {
      "cell_type": "code",
      "execution_count": 42,
      "metadata": {},
      "outputs": [],
      "source": [
        "# Make predictions on the test data\n",
        "start_idx = len(train_data)\n",
        "end_idx = len(train_data) + len(test_data) - 1\n",
        "predictions = pd.DataFrame(results.get_forecast(steps=len(test_data)).predicted_mean, index=test_data.index)\n"
      ]
    },
    {
      "cell_type": "code",
      "execution_count": 48,
      "metadata": {},
      "outputs": [],
      "source": [
        "# Filter out NaN values\n",
        "valid_predictions = predictions[~np.isnan(test_data['Mean'])]\n",
        "valid_test_data = test_data[~np.isnan(test_data['Mean'])]\n"
      ]
    },
    {
      "cell_type": "code",
      "execution_count": 50,
      "metadata": {},
      "outputs": [
        {
          "name": "stdout",
          "output_type": "stream",
          "text": [
            "Root Mean Squared Error (RMSE): 488.80400586370763\n",
            "Mean Absolute Percentage Error (MAPE): Mean             NaN\n",
            "predicted_mean   NaN\n",
            "dtype: float64\n"
          ]
        },
        {
          "name": "stderr",
          "output_type": "stream",
          "text": [
            "/home/lukmanaliyu/miniconda3/envs/arewads/lib/python3.10/site-packages/numpy/core/fromnumeric.py:3472: FutureWarning: In a future version, DataFrame.mean(axis=None) will return a scalar mean over the entire DataFrame. To retain the old behavior, use 'frame.mean(axis=0)' or just 'frame.mean()'\n",
            "  return mean(axis=axis, dtype=dtype, out=out, **kwargs)\n"
          ]
        }
      ],
      "source": [
        "# Evaluate the model\n",
        "mse = mean_squared_error(valid_test_data, valid_predictions)\n",
        "rmse = np.sqrt(mse)\n",
        "print(\"Root Mean Squared Error (RMSE):\", rmse)\n",
        "\n",
        "mape = np.mean(np.abs((valid_test_data - valid_predictions) / valid_test_data)) * 100\n",
        "print(\"Mean Absolute Percentage Error (MAPE):\", mape)\n"
      ]
    },
    {
      "cell_type": "code",
      "execution_count": 47,
      "metadata": {},
      "outputs": [
        {
          "data": {
            "text/plain": [
              "Index(['Mean'], dtype='object')"
            ]
          },
          "execution_count": 47,
          "metadata": {},
          "output_type": "execute_result"
        }
      ],
      "source": [
        "test_data.columns"
      ]
    }
  ],
  "metadata": {
    "colab": {
      "provenance": []
    },
    "kernelspec": {
      "display_name": "Python 3",
      "name": "python3"
    },
    "language_info": {
      "codemirror_mode": {
        "name": "ipython",
        "version": 3
      },
      "file_extension": ".py",
      "mimetype": "text/x-python",
      "name": "python",
      "nbconvert_exporter": "python",
      "pygments_lexer": "ipython3",
      "version": "3.10.10"
    }
  },
  "nbformat": 4,
  "nbformat_minor": 0
}
