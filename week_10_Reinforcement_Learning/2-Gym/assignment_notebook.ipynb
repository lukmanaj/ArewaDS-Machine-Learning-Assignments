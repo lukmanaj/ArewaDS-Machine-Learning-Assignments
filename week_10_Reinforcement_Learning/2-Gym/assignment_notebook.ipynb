{
 "cells": [
  {
   "attachments": {},
   "cell_type": "markdown",
   "metadata": {},
   "source": [
    "# Train Mountain Car\n",
    "\n",
    "[OpenAI Gym](http://gym.openai.com) has been designed in such a way that all environments provide the same API - i.e. the same methods `reset`, `step` and `render`, and the same abstractions of **action space** and **observation space**. Thus is should be possible to adapt the same reinforcement learning algorithms to different environments with minimal code changes.\n",
    "\n",
    "## A Mountain Car Environment\n",
    "\n",
    "[Mountain Car environment](https://gym.openai.com/envs/MountainCar-v0/) contains a car stuck in a valley:\n",
    "\n",
    "The goal is to get out of the valley and capture the flag, by doing at each step one of the following actions:\n",
    "\n",
    "| Value | Meaning |\n",
    "|---|---|\n",
    "| 0 | Accelerate to the left |\n",
    "| 1 | Do not accelerate |\n",
    "| 2 | Accelerate to the right |\n",
    "\n",
    "The main trick of this problem is, however, that the car's engine is not strong enough to scale the mountain in a single pass. Therefore, the only way to succeed is to drive back and forth to build up momentum.\n",
    "\n",
    "Observation space consists of just two values:\n",
    "\n",
    "| Num | Observation  | Min | Max |\n",
    "|-----|--------------|-----|-----|\n",
    "|  0  | Car Position | -1.2| 0.6 |\n",
    "|  1  | Car Velocity | -0.07 | 0.07 |\n",
    "\n",
    "Reward system for the mountain car is rather tricky:\n",
    "\n",
    " * Reward of 0 is awarded if the agent reached the flag (position = 0.5) on top of the mountain.\n",
    " * Reward of -1 is awarded if the position of the agent is less than 0.5.\n",
    "\n",
    "Episode terminates if the car position is more than 0.5, or episode length is greater than 200.\n",
    "## Instructions\n",
    "\n",
    "Adapt our reinforcement learning algorithm to solve the mountain car problem. Start with existing [notebook.ipynb](notebook.ipynb) code, substitute new environment, change state discretization functions, and try to make existing algorithm to train with minimal code modifications. Optimize the result by adjusting hyperparameters.\n",
    "\n",
    "> **Note**: Hyperparameters adjustment is likely to be needed to make algorithm converge. \n"
   ]
  },
  {
   "attachments": {},
   "cell_type": "markdown",
   "metadata": {},
   "source": [
    "Solution"
   ]
  },
  {
   "cell_type": "code",
   "execution_count": 1,
   "metadata": {},
   "outputs": [],
   "source": [
    "import sys\n",
    "import gymnasium as gym\n",
    "import matplotlib.pyplot as plt\n",
    "import numpy as np\n",
    "import random"
   ]
  },
  {
   "attachments": {},
   "cell_type": "markdown",
   "metadata": {},
   "source": [
    "Create a mountain car environment"
   ]
  },
  {
   "cell_type": "code",
   "execution_count": 34,
   "metadata": {},
   "outputs": [
    {
     "name": "stdout",
     "output_type": "stream",
     "text": [
      "Discrete(3)\n",
      "Box([-1.2  -0.07], [0.6  0.07], (2,), float32)\n",
      "2\n"
     ]
    }
   ],
   "source": [
    "env = gym.make(\"MountainCar-v0\",render_mode = \"human\")\n",
    "print(env.action_space)\n",
    "print(env.observation_space)\n",
    "print(env.action_space.sample())"
   ]
  },
  {
   "attachments": {},
   "cell_type": "markdown",
   "metadata": {},
   "source": [
    "To see how the environment works, let's run a short simulation for 100 steps. At each step, we provide one of the actions to be taken - in this simulation we just randomly select an action from action_space."
   ]
  },
  {
   "cell_type": "code",
   "execution_count": 35,
   "metadata": {},
   "outputs": [],
   "source": [
    "env = gym.make(\"MountainCar-v0\",render_mode = \"human\")\n",
    "observation, info = env.reset()\n",
    "\n",
    "for i in range(100):\n",
    "   action = env.action_space.sample()  # agent policy that uses the observation and info\n",
    "   observation, reward, terminated, truncated, info = env.step(action)\n",
    "   if terminated or truncated:\n",
    "      observation, info = env.reset()\n",
    "env.close()"
   ]
  },
  {
   "attachments": {},
   "cell_type": "markdown",
   "metadata": {},
   "source": [
    "During simulation, we need to get observations in order to decide how to act. In fact, step function returns us back current observations, reward function, and the done flag that indicates whether it makes sense to continue the simulation or not:"
   ]
  },
  {
   "cell_type": "code",
   "execution_count": 36,
   "metadata": {},
   "outputs": [
    {
     "name": "stdout",
     "output_type": "stream",
     "text": [
      "[-4.3632162e-01  3.5545020e-04] -> -1.0\n",
      "[-0.43561327  0.00070833] -> -1.0\n",
      "[-0.4365572  -0.00094393] -> -1.0\n",
      "[-0.43914655 -0.00258935] -> -1.0\n",
      "[-0.44236255 -0.00321599] -> -1.0\n",
      "[-0.4471818  -0.00481924] -> -1.0\n",
      "[-0.45156914 -0.00438736] -> -1.0\n",
      "[-0.45749253 -0.00592339] -> -1.0\n",
      "[-0.46490848 -0.00741595] -> -1.0\n",
      "[-0.47176233 -0.00685385] -> -1.0\n",
      "[-0.4780034  -0.00624106] -> -1.0\n",
      "[-0.48558536 -0.00758196] -> -1.0\n",
      "[-0.49245182 -0.00686644] -> -1.0\n",
      "[-0.49855152 -0.00609971] -> -1.0\n",
      "[-0.5058389  -0.00728738] -> -1.0\n",
      "[-0.5142594  -0.00842052] -> -1.0\n",
      "[-0.52374995 -0.00949056] -> -1.0\n",
      "[-0.53323936 -0.00948942] -> -1.0\n",
      "[-0.54265654 -0.00941713] -> -1.0\n",
      "[-0.5529308  -0.01027427] -> -1.0\n",
      "[-0.56398535 -0.01105457] -> -1.0\n",
      "[-0.5757378  -0.01175241] -> -1.0\n",
      "[-0.5861007  -0.01036296] -> -1.0\n",
      "[-0.59499764 -0.00889693] -> -1.0\n",
      "[-0.60336316 -0.00836553] -> -1.0\n",
      "[-0.61013615 -0.00677299] -> -1.0\n",
      "[-0.6172674  -0.00713122] -> -1.0\n",
      "[-0.6227053  -0.00543792] -> -1.0\n",
      "[-0.62641084 -0.00370552] -> -1.0\n",
      "[-0.6283574 -0.0019466] -> -1.0\n",
      "[-0.6295312  -0.00117378] -> -1.0\n",
      "[-0.6309238  -0.00139259] -> -1.0\n",
      "[-0.63252527 -0.00160149] -> -1.0\n",
      "[-0.63332427 -0.000799  ] -> -1.0\n",
      "[-6.3331515e-01  9.1558341e-06] -> -1.0\n",
      "[-6.3349789e-01 -1.8274938e-04] -> -1.0\n",
      "[-6.3387126e-01 -3.7335767e-04] -> -1.0\n",
      "[-0.6324326   0.00143868] -> -1.0\n",
      "[-0.631192    0.00124051] -> -1.0\n",
      "[-0.62915856  0.00203352] -> -1.0\n",
      "[-0.62734646  0.00181205] -> -1.0\n",
      "[-0.62576884  0.00157766] -> -1.0\n",
      "[-0.6234368   0.00233199] -> -1.0\n",
      "[-0.6193672   0.00406963] -> -1.0\n",
      "[-0.61558914  0.00377805] -> -1.0\n",
      "[-0.6111299   0.00445926] -> -1.0\n",
      "[-0.6070217   0.00410822] -> -1.0\n",
      "[-0.60329425  0.00372738] -> -1.0\n",
      "[-0.59797484  0.00531942] -> -1.0\n",
      "[-0.5921022   0.00587262] -> -1.0\n",
      "[-0.58671945  0.00538279] -> -1.0\n",
      "[-0.5808661   0.00585337] -> -1.0\n",
      "[-0.57358533  0.00728077] -> -1.0\n",
      "[-0.56693107  0.00665426] -> -1.0\n",
      "[-0.5589527   0.00797834] -> -1.0\n",
      "[-0.5497097  0.009243 ] -> -1.0\n",
      "[-0.53927106  0.01043863] -> -1.0\n",
      "[-0.52871495  0.01055613] -> -1.0\n",
      "[-0.5171204  0.0115945] -> -1.0\n",
      "[-0.50457454  0.01254591] -> -1.0\n",
      "[-0.49317122  0.01140331] -> -1.0\n",
      "[-0.4819958   0.01117542] -> -1.0\n",
      "[-0.4721316   0.00986421] -> -1.0\n",
      "[-0.46265185  0.00947974] -> -1.0\n",
      "[-0.45462668  0.00802518] -> -1.0\n",
      "[-0.4481151   0.00651157] -> -1.0\n",
      "[-0.44316486  0.00495027] -> -1.0\n",
      "[-0.437812    0.00535285] -> -1.0\n",
      "[-0.43409547  0.00371653] -> -1.0\n",
      "[-0.4310422   0.00305329] -> -1.0\n",
      "[-0.42967418  0.001368  ] -> -1.0\n",
      "[-0.42900133  0.00067285] -> -1.0\n",
      "[-0.43002847 -0.00102714] -> -1.0\n",
      "[-0.43074822 -0.00071974] -> -1.0\n",
      "[-0.43215537 -0.00140715] -> -1.0\n",
      "[-0.43523976 -0.0030844 ] -> -1.0\n",
      "[-0.43797913 -0.00273936] -> -1.0\n",
      "[-0.4423536  -0.00437447] -> -1.0\n",
      "[-0.4473314 -0.0049778] -> -1.0\n",
      "[-0.45187622 -0.00454482] -> -1.0\n",
      "[-0.45595482 -0.0040786 ] -> -1.0\n",
      "[-0.4595373  -0.00358246] -> -1.0\n",
      "[-0.46459725 -0.00505997] -> -1.0\n",
      "[-0.47009742 -0.00550017] -> -1.0\n",
      "[-0.47599712 -0.00589971] -> -1.0\n",
      "[-0.48125264 -0.00525551] -> -1.0\n",
      "[-0.48582488 -0.00457225] -> -1.0\n",
      "[-0.48967984 -0.00385495] -> -1.0\n",
      "[-0.49378875 -0.0041089 ] -> -1.0\n",
      "[-0.49712095 -0.00333218] -> -1.0\n",
      "[-0.5006515  -0.00353056] -> -1.0\n",
      "[-0.505354   -0.00470252] -> -1.0\n",
      "[-0.5101933  -0.00483929] -> -1.0\n",
      "[-0.5141331  -0.00393981] -> -1.0\n",
      "[-0.5171439  -0.00301079] -> -1.0\n",
      "[-0.5192031 -0.0020592] -> -1.0\n",
      "[-0.52229524 -0.00309216] -> -1.0\n",
      "[-0.5263972  -0.00410194] -> -1.0\n",
      "[-0.53147817 -0.00508095] -> -1.0\n",
      "[-0.5375     -0.00602186] -> -1.0\n"
     ]
    }
   ],
   "source": [
    "env = gym.make(\"MountainCar-v0\", render_mode = \"human\")\n",
    "observation, info = env.reset()\n",
    "\n",
    "for _ in range(100):\n",
    "    action = env.action_space.sample()  # agent policy that uses the observation and info\n",
    "    observation, reward, terminated, truncated, info = env.step(action)\n",
    "    print(f\"{observation} -> {reward}\")\n",
    "\n",
    "    if terminated or truncated:\n",
    "        observation, info = env.reset()\n",
    "\n",
    "env.close()"
   ]
  },
  {
   "attachments": {},
   "cell_type": "markdown",
   "metadata": {},
   "source": [
    "We can get min and max value of those numbers:"
   ]
  },
  {
   "cell_type": "code",
   "execution_count": 37,
   "metadata": {},
   "outputs": [
    {
     "name": "stdout",
     "output_type": "stream",
     "text": [
      "[-1.2  -0.07]\n",
      "[0.6  0.07]\n"
     ]
    }
   ],
   "source": [
    "print(env.observation_space.low)\n",
    "print(env.observation_space.high)"
   ]
  },
  {
   "attachments": {},
   "cell_type": "markdown",
   "metadata": {},
   "source": [
    "# Saving result to an animated GIF\n",
    "If you want to impress your friends, you may want to send them the animated GIF picture of the balancing pole. To do this, we can invoke env.render to produce an image frame, and then save those to animated GIF using PIL library:"
   ]
  }
 ],
 "metadata": {
  "kernelspec": {
   "display_name": "arewads",
   "language": "python",
   "name": "python3"
  },
  "language_info": {
   "codemirror_mode": {
    "name": "ipython",
    "version": 3
   },
   "file_extension": ".py",
   "mimetype": "text/x-python",
   "name": "python",
   "nbconvert_exporter": "python",
   "pygments_lexer": "ipython3",
   "version": "3.10.10"
  },
  "orig_nbformat": 4
 },
 "nbformat": 4,
 "nbformat_minor": 2
}
