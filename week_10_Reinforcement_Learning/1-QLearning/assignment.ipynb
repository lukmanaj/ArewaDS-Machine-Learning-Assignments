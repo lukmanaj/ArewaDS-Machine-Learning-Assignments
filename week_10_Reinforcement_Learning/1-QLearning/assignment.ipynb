{
 "cells": [
  {
   "attachments": {},
   "cell_type": "markdown",
   "metadata": {},
   "source": [
    "# A More Realistic World\n",
    "\n",
    "In our situation, Peter was able to move around almost without getting tired or hungry. In a more realistic world, we has to sit down and rest from time to time, and also to feed himself. Let's make our world more realistic, by implementing the following rules:\n",
    "\n",
    "1. By moving from one place to another, Peter loses **energy** and gains some **fatigue**.\n",
    "2. Peter can gain more energy by eating apples.\n",
    "3. Peter can get rid of fatigue by resting under the tree or on the grass (i.e. walking into a board location with a tree or grass - green field)\n",
    "4. Peter needs to find and kill the wolf\n",
    "5. In order to kill the wolf, Peter needs to have certain levels of energy and fatigue, otherwise he loses the battle.\n",
    "## Instructions\n",
    "\n",
    "Use the original notebook as a starting point for your solution.\n",
    "\n",
    "Modify the reward function above according to the rules of the game, run the reinforcement learning algorithm to learn the best strategy for winning the game, and compare the results of random walk with your algorithm in terms of number of games won and lost.\n",
    "\n",
    "> **Note**: In your new world, the state is more complex, and in addition to human position also includes fatigue and energy levels. You may chose to represent the state as a tuple (Board,energy,fatigue), or define a class for the state (you may also want to derive it from `Board`), or even modify the original `Board` class inside [rlboard.py](rlboard.py).\n",
    "\n",
    "In your solution, please keep the code responsible for random walk strategy, and compare the results of your algorithm with random walk at the end.\n",
    "\n",
    "> **Note**: You may need to adjust hyperparameters to make it work, especially the number of epochs. Because the success of the game (fighting the wolf) is a rare event, you can expect much longer training time."
   ]
  }
 ],
 "metadata": {
  "language_info": {
   "name": "python"
  },
  "orig_nbformat": 4
 },
 "nbformat": 4,
 "nbformat_minor": 2
}
