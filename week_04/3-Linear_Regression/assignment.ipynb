{
 "cells": [
  {
   "attachments": {},
   "cell_type": "markdown",
   "metadata": {},
   "source": [
    "## Instructions\n",
    "\n",
    "\n",
    "In this lesson you were shown how to build a model using both Linear and Polynomial Regression. Using this knowledge, find a dataset or use one of Scikit-learn's built-in sets to build a fresh model. Explain in your notebook why you chose the technique you did, and demonstrate your model's accuracy. If it is not accurate, explain why.\n",
    "\n",
    "### Rubric\n",
    "\n",
    "|Criteria|\tExemplary|\tAdequate|\tNeeds Improvement|\n",
    "|---|----|-----|----|\n",
    "||presents a complete notebook with a well-documented solution|\tthe solution is incomplete|\tthe solution is flawed or buggy|"
   ]
  }
 ],
 "metadata": {
  "language_info": {
   "name": "python"
  },
  "orig_nbformat": 4
 },
 "nbformat": 4,
 "nbformat_minor": 2
}
